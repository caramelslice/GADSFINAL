{
 "cells": [
  {
   "cell_type": "markdown",
   "metadata": {},
   "source": [
    "Import data, merge data"
   ]
  },
  {
   "cell_type": "code",
   "execution_count": 2,
   "metadata": {
    "collapsed": false
   },
   "outputs": [],
   "source": [
    "import pandas as pd\n",
    "import numpy as np\n",
    "\n",
    "train = pd.read_csv('data/train.csv', na_values='?')\n",
    "test = pd.read_csv('data/test.csv', na_values='?')\n",
    "bids = pd.read_csv('data/bids.csv', na_values='?')\n",
    "sampleSubmission = pd.read_csv('data/sampleSubmission.csv', na_values='?')\n",
    "\n",
    "#bids.head()\n",
    "df_merge = pd.merge(train, bids, how='inner', on=['bidder_id'])\n",
    "df_train = pd.concat([df_merge, pd.get_dummies(df_merge['merchandise'], prefix='cat')], axis=1)\n",
    "df_train.head()\n",
    "\n",
    "df_train = df_train.rename(columns=lambda x: x.replace(\" \", \"_\"))\n"
   ]
  },
  {
   "cell_type": "code",
   "execution_count": 42,
   "metadata": {
    "collapsed": false
   },
   "outputs": [],
   "source": []
  },
  {
   "cell_type": "code",
   "execution_count": 3,
   "metadata": {
    "collapsed": false
   },
   "outputs": [
    {
     "data": {
      "text/plain": [
       "Index([u'bidder_id', u'payment_account', u'address', u'outcome', u'bid_id', u'auction', u'merchandise', u'device', u'time', u'country', u'ip', u'url', u'cat_auto_parts', u'cat_books_and_music', u'cat_clothing', u'cat_computers', u'cat_furniture', u'cat_home_goods', u'cat_jewelry', u'cat_mobile', u'cat_office_equipment', u'cat_sporting_goods'], dtype='object')"
      ]
     },
     "execution_count": 3,
     "metadata": {},
     "output_type": "execute_result"
    }
   ],
   "source": [
    "df_train.columns"
   ]
  },
  {
   "cell_type": "code",
   "execution_count": 7,
   "metadata": {
    "collapsed": false
   },
   "outputs": [
    {
     "data": {
      "text/html": [
       "<div style=\"max-height:1000px;max-width:1500px;overflow:auto;\">\n",
       "<table border=\"1\" class=\"dataframe\">\n",
       "  <thead>\n",
       "    <tr style=\"text-align: right;\">\n",
       "      <th></th>\n",
       "      <th>bidder_id</th>\n",
       "      <th>payment_account</th>\n",
       "      <th>address</th>\n",
       "      <th>outcome</th>\n",
       "      <th>bid_id</th>\n",
       "      <th>auction</th>\n",
       "      <th>merchandise</th>\n",
       "      <th>device</th>\n",
       "      <th>time</th>\n",
       "      <th>country</th>\n",
       "      <th>...</th>\n",
       "      <th>cat_auto parts</th>\n",
       "      <th>cat_books and music</th>\n",
       "      <th>cat_clothing</th>\n",
       "      <th>cat_computers</th>\n",
       "      <th>cat_furniture</th>\n",
       "      <th>cat_home goods</th>\n",
       "      <th>cat_jewelry</th>\n",
       "      <th>cat_mobile</th>\n",
       "      <th>cat_office equipment</th>\n",
       "      <th>cat_sporting goods</th>\n",
       "    </tr>\n",
       "  </thead>\n",
       "  <tbody>\n",
       "    <tr>\n",
       "      <th>0</th>\n",
       "      <td> 91a3c57b13234af24875c56fb7e2b2f4rb56a</td>\n",
       "      <td> a3d2de7675556553a5f08e4c88d2c228754av</td>\n",
       "      <td> a3d2de7675556553a5f08e4c88d2c228vt0u4</td>\n",
       "      <td> 0</td>\n",
       "      <td>  85371</td>\n",
       "      <td> yitr4</td>\n",
       "      <td> home goods</td>\n",
       "      <td>   phone35</td>\n",
       "      <td> 9759489368421052</td>\n",
       "      <td> ke</td>\n",
       "      <td>...</td>\n",
       "      <td> 0</td>\n",
       "      <td> 0</td>\n",
       "      <td> 0</td>\n",
       "      <td> 0</td>\n",
       "      <td> 0</td>\n",
       "      <td> 1</td>\n",
       "      <td> 0</td>\n",
       "      <td> 0</td>\n",
       "      <td> 0</td>\n",
       "      <td> 0</td>\n",
       "    </tr>\n",
       "    <tr>\n",
       "      <th>1</th>\n",
       "      <td> 91a3c57b13234af24875c56fb7e2b2f4rb56a</td>\n",
       "      <td> a3d2de7675556553a5f08e4c88d2c228754av</td>\n",
       "      <td> a3d2de7675556553a5f08e4c88d2c228vt0u4</td>\n",
       "      <td> 0</td>\n",
       "      <td> 274487</td>\n",
       "      <td> btpyy</td>\n",
       "      <td> home goods</td>\n",
       "      <td> phone1004</td>\n",
       "      <td> 9760248684210526</td>\n",
       "      <td> zm</td>\n",
       "      <td>...</td>\n",
       "      <td> 0</td>\n",
       "      <td> 0</td>\n",
       "      <td> 0</td>\n",
       "      <td> 0</td>\n",
       "      <td> 0</td>\n",
       "      <td> 1</td>\n",
       "      <td> 0</td>\n",
       "      <td> 0</td>\n",
       "      <td> 0</td>\n",
       "      <td> 0</td>\n",
       "    </tr>\n",
       "    <tr>\n",
       "      <th>2</th>\n",
       "      <td> 91a3c57b13234af24875c56fb7e2b2f4rb56a</td>\n",
       "      <td> a3d2de7675556553a5f08e4c88d2c228754av</td>\n",
       "      <td> a3d2de7675556553a5f08e4c88d2c228vt0u4</td>\n",
       "      <td> 0</td>\n",
       "      <td> 527436</td>\n",
       "      <td> kj2ko</td>\n",
       "      <td> home goods</td>\n",
       "      <td>    phone4</td>\n",
       "      <td> 9762260578947368</td>\n",
       "      <td> ke</td>\n",
       "      <td>...</td>\n",
       "      <td> 0</td>\n",
       "      <td> 0</td>\n",
       "      <td> 0</td>\n",
       "      <td> 0</td>\n",
       "      <td> 0</td>\n",
       "      <td> 1</td>\n",
       "      <td> 0</td>\n",
       "      <td> 0</td>\n",
       "      <td> 0</td>\n",
       "      <td> 0</td>\n",
       "    </tr>\n",
       "    <tr>\n",
       "      <th>3</th>\n",
       "      <td> 91a3c57b13234af24875c56fb7e2b2f4rb56a</td>\n",
       "      <td> a3d2de7675556553a5f08e4c88d2c228754av</td>\n",
       "      <td> a3d2de7675556553a5f08e4c88d2c228vt0u4</td>\n",
       "      <td> 0</td>\n",
       "      <td> 554135</td>\n",
       "      <td> 1m5t8</td>\n",
       "      <td> home goods</td>\n",
       "      <td>    phone4</td>\n",
       "      <td> 9762430736842105</td>\n",
       "      <td> ke</td>\n",
       "      <td>...</td>\n",
       "      <td> 0</td>\n",
       "      <td> 0</td>\n",
       "      <td> 0</td>\n",
       "      <td> 0</td>\n",
       "      <td> 0</td>\n",
       "      <td> 1</td>\n",
       "      <td> 0</td>\n",
       "      <td> 0</td>\n",
       "      <td> 0</td>\n",
       "      <td> 0</td>\n",
       "    </tr>\n",
       "    <tr>\n",
       "      <th>4</th>\n",
       "      <td> 91a3c57b13234af24875c56fb7e2b2f4rb56a</td>\n",
       "      <td> a3d2de7675556553a5f08e4c88d2c228754av</td>\n",
       "      <td> a3d2de7675556553a5f08e4c88d2c228vt0u4</td>\n",
       "      <td> 0</td>\n",
       "      <td> 607628</td>\n",
       "      <td> btpyy</td>\n",
       "      <td> home goods</td>\n",
       "      <td>    phone4</td>\n",
       "      <td> 9762789000000000</td>\n",
       "      <td> ke</td>\n",
       "      <td>...</td>\n",
       "      <td> 0</td>\n",
       "      <td> 0</td>\n",
       "      <td> 0</td>\n",
       "      <td> 0</td>\n",
       "      <td> 0</td>\n",
       "      <td> 1</td>\n",
       "      <td> 0</td>\n",
       "      <td> 0</td>\n",
       "      <td> 0</td>\n",
       "      <td> 0</td>\n",
       "    </tr>\n",
       "  </tbody>\n",
       "</table>\n",
       "<p>5 rows × 22 columns</p>\n",
       "</div>"
      ],
      "text/plain": [
       "                               bidder_id  \\\n",
       "0  91a3c57b13234af24875c56fb7e2b2f4rb56a   \n",
       "1  91a3c57b13234af24875c56fb7e2b2f4rb56a   \n",
       "2  91a3c57b13234af24875c56fb7e2b2f4rb56a   \n",
       "3  91a3c57b13234af24875c56fb7e2b2f4rb56a   \n",
       "4  91a3c57b13234af24875c56fb7e2b2f4rb56a   \n",
       "\n",
       "                         payment_account  \\\n",
       "0  a3d2de7675556553a5f08e4c88d2c228754av   \n",
       "1  a3d2de7675556553a5f08e4c88d2c228754av   \n",
       "2  a3d2de7675556553a5f08e4c88d2c228754av   \n",
       "3  a3d2de7675556553a5f08e4c88d2c228754av   \n",
       "4  a3d2de7675556553a5f08e4c88d2c228754av   \n",
       "\n",
       "                                 address  outcome  bid_id auction merchandise  \\\n",
       "0  a3d2de7675556553a5f08e4c88d2c228vt0u4        0   85371   yitr4  home goods   \n",
       "1  a3d2de7675556553a5f08e4c88d2c228vt0u4        0  274487   btpyy  home goods   \n",
       "2  a3d2de7675556553a5f08e4c88d2c228vt0u4        0  527436   kj2ko  home goods   \n",
       "3  a3d2de7675556553a5f08e4c88d2c228vt0u4        0  554135   1m5t8  home goods   \n",
       "4  a3d2de7675556553a5f08e4c88d2c228vt0u4        0  607628   btpyy  home goods   \n",
       "\n",
       "      device              time country         ...         cat_auto parts  \\\n",
       "0    phone35  9759489368421052      ke         ...                      0   \n",
       "1  phone1004  9760248684210526      zm         ...                      0   \n",
       "2     phone4  9762260578947368      ke         ...                      0   \n",
       "3     phone4  9762430736842105      ke         ...                      0   \n",
       "4     phone4  9762789000000000      ke         ...                      0   \n",
       "\n",
       "  cat_books and music  cat_clothing  cat_computers  cat_furniture  \\\n",
       "0                   0             0              0              0   \n",
       "1                   0             0              0              0   \n",
       "2                   0             0              0              0   \n",
       "3                   0             0              0              0   \n",
       "4                   0             0              0              0   \n",
       "\n",
       "   cat_home goods  cat_jewelry  cat_mobile  cat_office equipment  \\\n",
       "0               1            0           0                     0   \n",
       "1               1            0           0                     0   \n",
       "2               1            0           0                     0   \n",
       "3               1            0           0                     0   \n",
       "4               1            0           0                     0   \n",
       "\n",
       "   cat_sporting goods  \n",
       "0                   0  \n",
       "1                   0  \n",
       "2                   0  \n",
       "3                   0  \n",
       "4                   0  \n",
       "\n",
       "[5 rows x 22 columns]"
      ]
     },
     "execution_count": 7,
     "metadata": {},
     "output_type": "execute_result"
    }
   ],
   "source": [
    "df_merge_test = pd.merge(train, bids, how='inner', on=['bidder_id'])\n",
    "df_test = pd.concat([df_merge_test, pd.get_dummies(df_merge['merchandise'], prefix='cat')], axis=1)\n",
    "df_test.head()"
   ]
  },
  {
   "cell_type": "code",
   "execution_count": null,
   "metadata": {
    "collapsed": false
   },
   "outputs": [],
   "source": [
    "from sklearn.linear_model import LogisticRegression\n",
    "lr = LogisticRegression()\n",
    "\n",
    "X_train = "
   ]
  },
  {
   "cell_type": "code",
   "execution_count": 45,
   "metadata": {
    "collapsed": false
   },
   "outputs": [
    {
     "data": {
      "text/plain": [
       "Index([u'bidder_id', u'payment_account', u'address', u'outcome', u'bid_id', u'auction', u'merchandise', u'device', u'time', u'country', u'ip', u'url', u'cat_auto_parts', u'cat_books_and_music', u'cat_clothing', u'cat_computers', u'cat_furniture', u'cat_home_goods', u'cat_jewelry', u'cat_mobile', u'cat_office_equipment', u'cat_sporting_goods'], dtype='object')"
      ]
     },
     "execution_count": 45,
     "metadata": {},
     "output_type": "execute_result"
    }
   ],
   "source": [
    "df_train.columns"
   ]
  },
  {
   "cell_type": "code",
   "execution_count": 47,
   "metadata": {
    "collapsed": false
   },
   "outputs": [
    {
     "name": "stdout",
     "output_type": "stream",
     "text": [
      "Optimization terminated successfully.    (Exit mode 0)\n",
      "            Current function value: 0.379852898543\n",
      "            Iterations: 74\n",
      "            Function evaluations: 74\n",
      "            Gradient evaluations: 74\n",
      "                           Logit Regression Results                           \n",
      "==============================================================================\n",
      "Dep. Variable:        df_train.target   No. Observations:              3071224\n",
      "Model:                          Logit   Df Residuals:                  3071217\n",
      "Method:                           MLE   Df Model:                            6\n",
      "Date:                Thu, 14 May 2015   Pseudo R-squ.:                 0.03701\n",
      "Time:                        23:27:42   Log-Likelihood:            -1.1666e+06\n",
      "converged:                       True   LL-Null:                   -1.2114e+06\n",
      "                                        LLR p-value:                     0.000\n",
      "================================================================================================\n",
      "                                   coef    std err          z      P>|z|      [95.0% Conf. Int.]\n",
      "------------------------------------------------------------------------------------------------\n",
      "Intercept                       -1.7307      0.002   -984.040      0.000        -1.734    -1.727\n",
      "df_train.cat_auto_parts       -148.9694   5.36e+30  -2.78e-29      1.000     -1.05e+31  1.05e+31\n",
      "df_train.cat_books_and_music    -0.4776      0.027    -17.573      0.000        -0.531    -0.424\n",
      "df_train.cat_clothing          -12.2004     48.564     -0.251      0.802      -107.384    82.984\n",
      "df_train.cat_computers           1.9119      0.014    138.145      0.000         1.885     1.939\n",
      "df_train.cat_furniture        -391.2028   7.12e+82  -5.49e-81      1.000      -1.4e+83   1.4e+83\n",
      "df_train.cat_home_goods         -1.3045      0.008   -169.669      0.000        -1.320    -1.289\n",
      "================================================================================================\n"
     ]
    }
   ],
   "source": [
    "import statsmodels.formula.api as smf\n",
    "\n",
    "\n",
    "df_train['target'] = df_train.outcome\n",
    "lmf = smf.logit('df_train.target ~ df_train.cat_auto_parts + df_train.cat_books_and_music + df_train.cat_clothing + df_train.cat_computers + df_train.cat_furniture + df_train.cat_home_goods', df)\n",
    "                                      \n",
    "results = lmf.fit_regularized(alpha=0)\n",
    "\n",
    "print results.summary()"
   ]
  },
  {
   "cell_type": "code",
   "execution_count": null,
   "metadata": {
    "collapsed": false
   },
   "outputs": [],
   "source": []
  },
  {
   "cell_type": "code",
   "execution_count": null,
   "metadata": {
    "collapsed": true
   },
   "outputs": [],
   "source": []
  }
 ],
 "metadata": {
  "kernelspec": {
   "display_name": "Python 2",
   "language": "python",
   "name": "python2"
  },
  "language_info": {
   "codemirror_mode": {
    "name": "ipython",
    "version": 2
   },
   "file_extension": ".py",
   "mimetype": "text/x-python",
   "name": "python",
   "nbconvert_exporter": "python",
   "pygments_lexer": "ipython2",
   "version": "2.7.9"
  }
 },
 "nbformat": 4,
 "nbformat_minor": 0
}
