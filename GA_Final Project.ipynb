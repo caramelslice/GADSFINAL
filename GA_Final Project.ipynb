{
 "cells": [
  {
   "cell_type": "markdown",
   "metadata": {},
   "source": [
    "Import data, merge data"
   ]
  },
  {
   "cell_type": "code",
   "execution_count": 1,
   "metadata": {
    "collapsed": false
   },
   "outputs": [],
   "source": [
    "import pandas as pd\n",
    "import numpy as np\n",
    "\n",
    "train = pd.read_csv('data/train.csv', na_values='?')\n",
    "test = pd.read_csv('data/test.csv', na_values='?')\n",
    "bids = pd.read_csv('data/bids.csv', na_values='?')\n",
    "sampleSubmission = pd.read_csv('data/sampleSubmission.csv', na_values='?')\n",
    "\n",
    "#bids.head()\n",
    "df_merge = pd.merge(train, bids, how='inner', on=['bidder_id'])\n",
    "df_train = pd.concat([df_merge, pd.get_dummies(df_merge['merchandise'], prefix='cat')], axis=1)\n",
    "df_train.head()\n",
    "\n",
    "df_train = df_train.rename(columns=lambda x: x.replace(\" \", \"_\"))\n"
   ]
  },
  {
   "cell_type": "code",
   "execution_count": 32,
   "metadata": {
    "collapsed": false
   },
   "outputs": [
    {
     "data": {
      "text/html": [
       "<div style=\"max-height:1000px;max-width:1500px;overflow:auto;\">\n",
       "<table border=\"1\" class=\"dataframe\">\n",
       "  <thead>\n",
       "    <tr style=\"text-align: right;\">\n",
       "      <th></th>\n",
       "      <th>bidder_id</th>\n",
       "      <th>payment_account</th>\n",
       "      <th>address</th>\n",
       "      <th>outcome</th>\n",
       "      <th>bid_id</th>\n",
       "      <th>auction</th>\n",
       "      <th>merchandise</th>\n",
       "      <th>device</th>\n",
       "      <th>time</th>\n",
       "      <th>country</th>\n",
       "      <th>...</th>\n",
       "      <th>cat_auto parts</th>\n",
       "      <th>cat_books and music</th>\n",
       "      <th>cat_clothing</th>\n",
       "      <th>cat_computers</th>\n",
       "      <th>cat_furniture</th>\n",
       "      <th>cat_home goods</th>\n",
       "      <th>cat_jewelry</th>\n",
       "      <th>cat_mobile</th>\n",
       "      <th>cat_office equipment</th>\n",
       "      <th>cat_sporting goods</th>\n",
       "    </tr>\n",
       "  </thead>\n",
       "  <tbody>\n",
       "    <tr>\n",
       "      <th>0</th>\n",
       "      <td> 91a3c57b13234af24875c56fb7e2b2f4rb56a</td>\n",
       "      <td> a3d2de7675556553a5f08e4c88d2c228754av</td>\n",
       "      <td> a3d2de7675556553a5f08e4c88d2c228vt0u4</td>\n",
       "      <td> 0</td>\n",
       "      <td>  85371</td>\n",
       "      <td> yitr4</td>\n",
       "      <td> home goods</td>\n",
       "      <td>   phone35</td>\n",
       "      <td> 9759489368421052</td>\n",
       "      <td> ke</td>\n",
       "      <td>...</td>\n",
       "      <td> 0</td>\n",
       "      <td> 0</td>\n",
       "      <td> 0</td>\n",
       "      <td> 0</td>\n",
       "      <td> 0</td>\n",
       "      <td> 1</td>\n",
       "      <td> 0</td>\n",
       "      <td> 0</td>\n",
       "      <td> 0</td>\n",
       "      <td> 0</td>\n",
       "    </tr>\n",
       "    <tr>\n",
       "      <th>1</th>\n",
       "      <td> 91a3c57b13234af24875c56fb7e2b2f4rb56a</td>\n",
       "      <td> a3d2de7675556553a5f08e4c88d2c228754av</td>\n",
       "      <td> a3d2de7675556553a5f08e4c88d2c228vt0u4</td>\n",
       "      <td> 0</td>\n",
       "      <td> 274487</td>\n",
       "      <td> btpyy</td>\n",
       "      <td> home goods</td>\n",
       "      <td> phone1004</td>\n",
       "      <td> 9760248684210526</td>\n",
       "      <td> zm</td>\n",
       "      <td>...</td>\n",
       "      <td> 0</td>\n",
       "      <td> 0</td>\n",
       "      <td> 0</td>\n",
       "      <td> 0</td>\n",
       "      <td> 0</td>\n",
       "      <td> 1</td>\n",
       "      <td> 0</td>\n",
       "      <td> 0</td>\n",
       "      <td> 0</td>\n",
       "      <td> 0</td>\n",
       "    </tr>\n",
       "    <tr>\n",
       "      <th>2</th>\n",
       "      <td> 91a3c57b13234af24875c56fb7e2b2f4rb56a</td>\n",
       "      <td> a3d2de7675556553a5f08e4c88d2c228754av</td>\n",
       "      <td> a3d2de7675556553a5f08e4c88d2c228vt0u4</td>\n",
       "      <td> 0</td>\n",
       "      <td> 527436</td>\n",
       "      <td> kj2ko</td>\n",
       "      <td> home goods</td>\n",
       "      <td>    phone4</td>\n",
       "      <td> 9762260578947368</td>\n",
       "      <td> ke</td>\n",
       "      <td>...</td>\n",
       "      <td> 0</td>\n",
       "      <td> 0</td>\n",
       "      <td> 0</td>\n",
       "      <td> 0</td>\n",
       "      <td> 0</td>\n",
       "      <td> 1</td>\n",
       "      <td> 0</td>\n",
       "      <td> 0</td>\n",
       "      <td> 0</td>\n",
       "      <td> 0</td>\n",
       "    </tr>\n",
       "    <tr>\n",
       "      <th>3</th>\n",
       "      <td> 91a3c57b13234af24875c56fb7e2b2f4rb56a</td>\n",
       "      <td> a3d2de7675556553a5f08e4c88d2c228754av</td>\n",
       "      <td> a3d2de7675556553a5f08e4c88d2c228vt0u4</td>\n",
       "      <td> 0</td>\n",
       "      <td> 554135</td>\n",
       "      <td> 1m5t8</td>\n",
       "      <td> home goods</td>\n",
       "      <td>    phone4</td>\n",
       "      <td> 9762430736842105</td>\n",
       "      <td> ke</td>\n",
       "      <td>...</td>\n",
       "      <td> 0</td>\n",
       "      <td> 0</td>\n",
       "      <td> 0</td>\n",
       "      <td> 0</td>\n",
       "      <td> 0</td>\n",
       "      <td> 1</td>\n",
       "      <td> 0</td>\n",
       "      <td> 0</td>\n",
       "      <td> 0</td>\n",
       "      <td> 0</td>\n",
       "    </tr>\n",
       "    <tr>\n",
       "      <th>4</th>\n",
       "      <td> 91a3c57b13234af24875c56fb7e2b2f4rb56a</td>\n",
       "      <td> a3d2de7675556553a5f08e4c88d2c228754av</td>\n",
       "      <td> a3d2de7675556553a5f08e4c88d2c228vt0u4</td>\n",
       "      <td> 0</td>\n",
       "      <td> 607628</td>\n",
       "      <td> btpyy</td>\n",
       "      <td> home goods</td>\n",
       "      <td>    phone4</td>\n",
       "      <td> 9762789000000000</td>\n",
       "      <td> ke</td>\n",
       "      <td>...</td>\n",
       "      <td> 0</td>\n",
       "      <td> 0</td>\n",
       "      <td> 0</td>\n",
       "      <td> 0</td>\n",
       "      <td> 0</td>\n",
       "      <td> 1</td>\n",
       "      <td> 0</td>\n",
       "      <td> 0</td>\n",
       "      <td> 0</td>\n",
       "      <td> 0</td>\n",
       "    </tr>\n",
       "  </tbody>\n",
       "</table>\n",
       "<p>5 rows × 22 columns</p>\n",
       "</div>"
      ],
      "text/plain": [
       "                               bidder_id  \\\n",
       "0  91a3c57b13234af24875c56fb7e2b2f4rb56a   \n",
       "1  91a3c57b13234af24875c56fb7e2b2f4rb56a   \n",
       "2  91a3c57b13234af24875c56fb7e2b2f4rb56a   \n",
       "3  91a3c57b13234af24875c56fb7e2b2f4rb56a   \n",
       "4  91a3c57b13234af24875c56fb7e2b2f4rb56a   \n",
       "\n",
       "                         payment_account  \\\n",
       "0  a3d2de7675556553a5f08e4c88d2c228754av   \n",
       "1  a3d2de7675556553a5f08e4c88d2c228754av   \n",
       "2  a3d2de7675556553a5f08e4c88d2c228754av   \n",
       "3  a3d2de7675556553a5f08e4c88d2c228754av   \n",
       "4  a3d2de7675556553a5f08e4c88d2c228754av   \n",
       "\n",
       "                                 address  outcome  bid_id auction merchandise  \\\n",
       "0  a3d2de7675556553a5f08e4c88d2c228vt0u4        0   85371   yitr4  home goods   \n",
       "1  a3d2de7675556553a5f08e4c88d2c228vt0u4        0  274487   btpyy  home goods   \n",
       "2  a3d2de7675556553a5f08e4c88d2c228vt0u4        0  527436   kj2ko  home goods   \n",
       "3  a3d2de7675556553a5f08e4c88d2c228vt0u4        0  554135   1m5t8  home goods   \n",
       "4  a3d2de7675556553a5f08e4c88d2c228vt0u4        0  607628   btpyy  home goods   \n",
       "\n",
       "      device              time country         ...         cat_auto parts  \\\n",
       "0    phone35  9759489368421052      ke         ...                      0   \n",
       "1  phone1004  9760248684210526      zm         ...                      0   \n",
       "2     phone4  9762260578947368      ke         ...                      0   \n",
       "3     phone4  9762430736842105      ke         ...                      0   \n",
       "4     phone4  9762789000000000      ke         ...                      0   \n",
       "\n",
       "  cat_books and music  cat_clothing  cat_computers  cat_furniture  \\\n",
       "0                   0             0              0              0   \n",
       "1                   0             0              0              0   \n",
       "2                   0             0              0              0   \n",
       "3                   0             0              0              0   \n",
       "4                   0             0              0              0   \n",
       "\n",
       "   cat_home goods  cat_jewelry  cat_mobile  cat_office equipment  \\\n",
       "0               1            0           0                     0   \n",
       "1               1            0           0                     0   \n",
       "2               1            0           0                     0   \n",
       "3               1            0           0                     0   \n",
       "4               1            0           0                     0   \n",
       "\n",
       "   cat_sporting goods  \n",
       "0                   0  \n",
       "1                   0  \n",
       "2                   0  \n",
       "3                   0  \n",
       "4                   0  \n",
       "\n",
       "[5 rows x 22 columns]"
      ]
     },
     "execution_count": 32,
     "metadata": {},
     "output_type": "execute_result"
    }
   ],
   "source": [
    "df_merge_test = pd.merge(train, bids, how='inner', on=['bidder_id'])\n",
    "df_test = pd.concat([df_merge_test, pd.get_dummies(df_merge['merchandise'], prefix='cat')], axis=1)\n",
    "df_test.head()"
   ]
  },
  {
   "cell_type": "markdown",
   "metadata": {
    "collapsed": false
   },
   "source": [
    "Decision Tree"
   ]
  },
  {
   "cell_type": "code",
   "execution_count": 12,
   "metadata": {
    "collapsed": false
   },
   "outputs": [
    {
     "name": "stdout",
     "output_type": "stream",
     "text": [
      "[ 0.  0.  0. ...,  0.  0.  0.]\n",
      "[ 0.  0.  0. ...,  0.  0.  0.]\n",
      "0.364587715382\n"
     ]
    },
    {
     "data": {
      "text/plain": [
       "[(0.0, 0.93739462790849482), (1.0, 0.062605372091505185)]"
      ]
     },
     "execution_count": 12,
     "metadata": {},
     "output_type": "execute_result"
    }
   ],
   "source": [
    "# select the merchandise type as featulre columns \n",
    "\n",
    "X = df_train[['cat_auto_parts', 'cat_books_and_music', 'cat_clothing', 'cat_computers', 'cat_furniture', 'cat_home_goods', 'cat_jewelry', 'cat_mobile', 'cat_office_equipment', 'cat_sporting_goods']]\n",
    "y = df_train.outcome\n",
    "\n",
    "from sklearn.cross_validation import train_test_split\n",
    "X_train, X_test, y_train, y_test = train_test_split(X, y, random_state=1)\n",
    "\n",
    "# import class, instantiate estimator, fit with training set\n",
    "from sklearn.tree import DecisionTreeClassifier\n",
    "treecls = DecisionTreeClassifier(random_state=1)\n",
    "treecls.fit(X_train, y_train)\n",
    "\n",
    "# make predictions\n",
    "preds = treecls.predict(X_test)\n",
    "\n",
    "# print predictions and actual values\n",
    "print preds\n",
    "print y_test\n",
    "\n",
    "# print RMSE\n",
    "from sklearn import metrics\n",
    "import numpy as np\n",
    "print np.sqrt(metrics.mean_squared_error(y_test, preds))\n",
    "\n",
    "pred3 = treecls.predict_proba(X_test)\n",
    "zip(treecls.classes_, pred3[0])"
   ]
  },
  {
   "cell_type": "code",
   "execution_count": 23,
   "metadata": {
    "collapsed": false
   },
   "outputs": [
    {
     "name": "stdout",
     "output_type": "stream",
     "text": [
      "Best score: 0.365584997525\n",
      "Best depth: 3\n"
     ]
    },
    {
     "data": {
      "text/plain": [
       "<matplotlib.text.Text at 0x109134d10>"
      ]
     },
     "execution_count": 23,
     "metadata": {},
     "output_type": "execute_result"
    },
    {
     "data": {
      "image/png": "[encoded data removed]",
      "text/plain": [
       "<matplotlib.figure.Figure at 0x10989aa50>"
      ]
     },
     "metadata": {},
     "output_type": "display_data"
    }
   ],
   "source": [
    "% matplotlib inline\n",
    "from matplotlib import pyplot as plt\n",
    "import seaborn as sns\n",
    "\n",
    "sns.set_style('whitegrid')\n",
    "\n",
    "all_scores = []\n",
    "best_score = -1\n",
    "best_depth = 0\n",
    "for i in range(1, 6):\n",
    "    treecls = DecisionTreeClassifier(max_depth=i, random_state=1)\n",
    "    scores = cross_val_score(treecls, X, y, cv=3, scoring='mean_squared_error')\n",
    "    current_score = np.mean(np.sqrt(-scores))\n",
    "    # If the score mean is better than the current best, or best is the default (-1), then update!\n",
    "    if current_score < best_score or best_score == -1:\n",
    "        best_score = current_score\n",
    "        best_depth = i\n",
    "    # store to plot anyway!\n",
    "    all_scores.append(current_score)\n",
    "    \n",
    "print \"Best score: %s\" % best_score\n",
    "print \"Best depth: %s\" % best_depth\n",
    "\n",
    "# now actually fit the model\n",
    "treecls = DecisionTreeClassifier(max_depth=best_depth, random_state=1)\n",
    "treecls.fit(X, y)\n",
    "\n",
    "plt.figure()\n",
    "plt.plot(range(1, 6), all_scores)\n",
    "plt.xlabel('x=max tree depth')\n",
    "\n",
    "pred3 = treecls.predict_proba(X_test)\n",
    "zip(treecls.classes_, pred3[0])"
   ]
  },
  {
   "cell_type": "code",
   "execution_count": 29,
   "metadata": {
    "collapsed": false
   },
   "outputs": [
    {
     "data": {
      "text/html": [
       "<div style=\"max-height:1000px;max-width:1500px;overflow:auto;\">\n",
       "<table border=\"1\" class=\"dataframe\">\n",
       "  <thead>\n",
       "    <tr style=\"text-align: right;\">\n",
       "      <th></th>\n",
       "      <th>feature</th>\n",
       "      <th>importance</th>\n",
       "    </tr>\n",
       "  </thead>\n",
       "  <tbody>\n",
       "    <tr>\n",
       "      <th>0</th>\n",
       "      <td>       cat_auto_parts</td>\n",
       "      <td> 0.000000</td>\n",
       "    </tr>\n",
       "    <tr>\n",
       "      <th>1</th>\n",
       "      <td>  cat_books_and_music</td>\n",
       "      <td> 0.000000</td>\n",
       "    </tr>\n",
       "    <tr>\n",
       "      <th>2</th>\n",
       "      <td>         cat_clothing</td>\n",
       "      <td> 0.000000</td>\n",
       "    </tr>\n",
       "    <tr>\n",
       "      <th>3</th>\n",
       "      <td>        cat_computers</td>\n",
       "      <td> 0.283243</td>\n",
       "    </tr>\n",
       "    <tr>\n",
       "      <th>4</th>\n",
       "      <td>        cat_furniture</td>\n",
       "      <td> 0.000000</td>\n",
       "    </tr>\n",
       "    <tr>\n",
       "      <th>5</th>\n",
       "      <td>       cat_home_goods</td>\n",
       "      <td> 0.000000</td>\n",
       "    </tr>\n",
       "    <tr>\n",
       "      <th>6</th>\n",
       "      <td>          cat_jewelry</td>\n",
       "      <td> 0.000000</td>\n",
       "    </tr>\n",
       "    <tr>\n",
       "      <th>7</th>\n",
       "      <td>           cat_mobile</td>\n",
       "      <td> 0.308692</td>\n",
       "    </tr>\n",
       "    <tr>\n",
       "      <th>8</th>\n",
       "      <td> cat_office_equipment</td>\n",
       "      <td> 0.000000</td>\n",
       "    </tr>\n",
       "    <tr>\n",
       "      <th>9</th>\n",
       "      <td>   cat_sporting_goods</td>\n",
       "      <td> 0.408066</td>\n",
       "    </tr>\n",
       "  </tbody>\n",
       "</table>\n",
       "</div>"
      ],
      "text/plain": [
       "                feature  importance\n",
       "0        cat_auto_parts    0.000000\n",
       "1   cat_books_and_music    0.000000\n",
       "2          cat_clothing    0.000000\n",
       "3         cat_computers    0.283243\n",
       "4         cat_furniture    0.000000\n",
       "5        cat_home_goods    0.000000\n",
       "6           cat_jewelry    0.000000\n",
       "7            cat_mobile    0.308692\n",
       "8  cat_office_equipment    0.000000\n",
       "9    cat_sporting_goods    0.408066"
      ]
     },
     "execution_count": 29,
     "metadata": {},
     "output_type": "execute_result"
    }
   ],
   "source": [
    "feature_cols = ['cat_auto_parts', 'cat_books_and_music', 'cat_clothing', 'cat_computers', 'cat_furniture', 'cat_home_goods', 'cat_jewelry', 'cat_mobile', 'cat_office_equipment', 'cat_sporting_goods']\n",
    "\n",
    "\n",
    "\n",
    "# compute the \"Gini importance\" of each feature: the (normalized) total reduction of MSE brought by that feature\n",
    "pd.DataFrame({'feature':feature_cols, 'importance':treecls.feature_importances_})"
   ]
  },
  {
   "cell_type": "code",
   "execution_count": 31,
   "metadata": {
    "collapsed": true
   },
   "outputs": [],
   "source": [
    "# create a Graphviz file\n",
    "from sklearn.tree import export_graphviz\n",
    "with open(\"merchandise_cat.dot\", 'wb') as f:\n",
    "    f = export_graphviz(treecls, out_file=f, feature_names=feature_cols)\n",
    "\n",
    "# at the command line, run this to convert to PNG:\n",
    "# dot -Tpng 15_vehicles.dot -o merchandise_cat.png"
   ]
  },
  {
   "cell_type": "markdown",
   "metadata": {},
   "source": [
    "![Alt text](merchandise_cat.png \"Optional title\")"
   ]
  },
  {
   "cell_type": "code",
   "execution_count": 41,
   "metadata": {
    "collapsed": false
   },
   "outputs": [
    {
     "name": "stdout",
     "output_type": "stream",
     "text": [
      "[ 0.  0.  0. ...,  0.  0.  0.]\n",
      "[ 0.  0.  0. ...,  0.  0.  0.]\n",
      "0.365587478338\n"
     ]
    }
   ],
   "source": [
    "# define X and y\n",
    "\n",
    "X_oos = df_train[['cat_auto_parts', 'cat_books_and_music', 'cat_clothing', 'cat_computers', 'cat_furniture', 'cat_home_goods', 'cat_jewelry', 'cat_mobile', 'cat_office_equipment', 'cat_sporting_goods']]\n",
    "y_oos = df_test.outcome\n",
    "\n",
    "# make predictions on out-of-sample data\n",
    "preds = treecls.predict(X_oos)\n",
    "\n",
    "# print predictions and actual values\n",
    "print preds\n",
    "print y_oos.values\n",
    "\n",
    "test = pd.DataFrame(preds)\n",
    "test.to_csv(\"test.csv\", sep='\\t')\n",
    "\n",
    "# print RMSE\n",
    "print np.sqrt(metrics.mean_squared_error(y_oos, preds))\n"
   ]
  },
  {
   "cell_type": "code",
   "execution_count": 32,
   "metadata": {
    "collapsed": false
   },
   "outputs": [
    {
     "name": "stdout",
     "output_type": "stream",
     "text": [
      "ACC: 0.8671\n"
     ]
    },
    {
     "data": {
      "text/plain": [
       "[(0.0, 0.93739446389021508), (1.0, 0.062605536109784893)]"
      ]
     },
     "execution_count": 32,
     "metadata": {},
     "output_type": "execute_result"
    }
   ],
   "source": [
    "from sklearn.cross_validation import train_test_split\n",
    "from sklearn.ensemble import GradientBoostingClassifier\n",
    " \n",
    "# generate synthetic data from ESLII - Example 10.2\n",
    "\n",
    "# fit estimator\n",
    "est = GradientBoostingClassifier(n_estimators=200, max_depth=3)\n",
    "est_model = est.fit(X_train, y_train)\n",
    "\n",
    "# predict class labels\n",
    "pred = est.predict(X_test)\n",
    "#pred_probs = [\"%f\" % x[1] for x in pred]\n",
    "\n",
    "\n",
    "\n",
    "# score on test data (accuracy)\n",
    "acc = est.score(X_test, y_test)\n",
    "print('ACC: %.4f' % acc)\n",
    "\n",
    "# predict class probabilities\n",
    "#est.predict_proba(X_test)[0]\n",
    "#zip(est_model.classes_, pred[0])\n",
    "\n",
    "pred2 = est.predict_proba(X_test)\n",
    "zip(est_model.classes_, pred2[0])"
   ]
  },
  {
   "cell_type": "code",
   "execution_count": 33,
   "metadata": {
    "collapsed": true
   },
   "outputs": [],
   "source": [
    "# predict class labels\n",
    "pred_probs = [\"%f\" % x[1] for x in pred2]\n",
    "\n",
    "#write to a results CSV file\n",
    "gbc = pd.DataFrame(pred_probs)\n",
    "gbc.to_csv(\"gbc.csv\")"
   ]
  },
  {
   "cell_type": "code",
   "execution_count": 34,
   "metadata": {
    "collapsed": false
   },
   "outputs": [
    {
     "data": {
      "text/html": [
       "<div style=\"max-height:1000px;max-width:1500px;overflow:auto;\">\n",
       "<table border=\"1\" class=\"dataframe\">\n",
       "  <thead>\n",
       "    <tr style=\"text-align: right;\">\n",
       "      <th></th>\n",
       "      <th>0</th>\n",
       "    </tr>\n",
       "  </thead>\n",
       "  <tbody>\n",
       "    <tr>\n",
       "      <th>0</th>\n",
       "      <td> 0.062606</td>\n",
       "    </tr>\n",
       "    <tr>\n",
       "      <th>1</th>\n",
       "      <td> 0.047917</td>\n",
       "    </tr>\n",
       "    <tr>\n",
       "      <th>2</th>\n",
       "      <td> 0.045910</td>\n",
       "    </tr>\n",
       "    <tr>\n",
       "      <th>3</th>\n",
       "      <td> 0.197489</td>\n",
       "    </tr>\n",
       "    <tr>\n",
       "      <th>4</th>\n",
       "      <td> 0.197489</td>\n",
       "    </tr>\n",
       "  </tbody>\n",
       "</table>\n",
       "</div>"
      ],
      "text/plain": [
       "          0\n",
       "0  0.062606\n",
       "1  0.047917\n",
       "2  0.045910\n",
       "3  0.197489\n",
       "4  0.197489"
      ]
     },
     "execution_count": 34,
     "metadata": {},
     "output_type": "execute_result"
    }
   ],
   "source": [
    "gbc.head()"
   ]
  },
  {
   "cell_type": "code",
   "execution_count": 25,
   "metadata": {
    "collapsed": false
   },
   "outputs": [],
   "source": [
    "from sklearn.ensemble import RandomForestClassifier\n",
    "\n",
    "#create and train the random forest\n",
    "rf = RandomForestClassifier(n_estimators=100)\n",
    "rf.fit(X_train, y_train)\n",
    "predicted_probs = rf.predict_proba(X_test)\n",
    "predicted_probs = [\"%f\" % x[1] for x in predicted_probs]\n",
    "\n",
    "#write to a results CSV file\n",
    "test3 = pd.DataFrame(predicted_probs)\n",
    "test3.to_csv(\"test3.csv\")\n"
   ]
  },
  {
   "cell_type": "markdown",
   "metadata": {},
   "source": [
    "The probability of each one being a robot. "
   ]
  },
  {
   "cell_type": "code",
   "execution_count": 29,
   "metadata": {
    "collapsed": false
   },
   "outputs": [
    {
     "data": {
      "text/html": [
       "<div style=\"max-height:1000px;max-width:1500px;overflow:auto;\">\n",
       "<table border=\"1\" class=\"dataframe\">\n",
       "  <thead>\n",
       "    <tr style=\"text-align: right;\">\n",
       "      <th></th>\n",
       "      <th>0</th>\n",
       "    </tr>\n",
       "  </thead>\n",
       "  <tbody>\n",
       "    <tr>\n",
       "      <th>0</th>\n",
       "      <td> 0.062620</td>\n",
       "    </tr>\n",
       "    <tr>\n",
       "      <th>1</th>\n",
       "      <td> 0.047889</td>\n",
       "    </tr>\n",
       "    <tr>\n",
       "      <th>2</th>\n",
       "      <td> 0.045928</td>\n",
       "    </tr>\n",
       "    <tr>\n",
       "      <th>3</th>\n",
       "      <td> 0.197463</td>\n",
       "    </tr>\n",
       "    <tr>\n",
       "      <th>4</th>\n",
       "      <td> 0.197463</td>\n",
       "    </tr>\n",
       "  </tbody>\n",
       "</table>\n",
       "</div>"
      ],
      "text/plain": [
       "          0\n",
       "0  0.062620\n",
       "1  0.047889\n",
       "2  0.045928\n",
       "3  0.197463\n",
       "4  0.197463"
      ]
     },
     "execution_count": 29,
     "metadata": {},
     "output_type": "execute_result"
    }
   ],
   "source": [
    "test3.head()"
   ]
  },
  {
   "cell_type": "code",
   "execution_count": null,
   "metadata": {
    "collapsed": false
   },
   "outputs": [],
   "source": [
    "import sklearn\n",
    "from sklearn import svm\n",
    "model = svm.SVC(probability=True)\n",
    "X = X_train\n",
    "Y = y_train\n",
    "model.fit(X, Y)\n",
    "model.predict_proba(X_test)"
   ]
  },
  {
   "cell_type": "code",
   "execution_count": 7,
   "metadata": {
    "collapsed": false
   },
   "outputs": [],
   "source": [
    "# temp = zip(model.classes_, model.predict_proba(X_test)[0])\n"
   ]
  },
  {
   "cell_type": "code",
   "execution_count": null,
   "metadata": {
    "collapsed": false
   },
   "outputs": [],
   "source": []
  },
  {
   "cell_type": "code",
   "execution_count": null,
   "metadata": {
    "collapsed": true
   },
   "outputs": [],
   "source": []
  }
 ],
 "metadata": {
  "kernelspec": {
   "display_name": "Python 2",
   "language": "python",
   "name": "python2"
  },
  "language_info": {
   "codemirror_mode": {
    "name": "ipython",
    "version": 2
   },
   "file_extension": ".py",
   "mimetype": "text/x-python",
   "name": "python",
   "nbconvert_exporter": "python",
   "pygments_lexer": "ipython2",
   "version": "2.7.9"
  }
 },
 "nbformat": 4,
 "nbformat_minor": 0
}
